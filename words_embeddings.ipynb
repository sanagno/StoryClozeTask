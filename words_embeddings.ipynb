{
 "cells": [
  {
   "cell_type": "code",
   "execution_count": 1,
   "metadata": {},
   "outputs": [
    {
     "name": "stderr",
     "output_type": "stream",
     "text": [
      "/cluster/apps/python/3.6.4/lib64/python3.6/site-packages/h5py/__init__.py:36: FutureWarning: Conversion of the second argument of issubdtype from `float` to `np.floating` is deprecated. In future, it will be treated as `np.float64 == np.dtype(float).type`.\n",
      "  from ._conv import register_converters as _register_converters\n",
      "WARNING: Logging before flag parsing goes to stderr.\n",
      "W0522 18:08:35.359369 47033619180992 __init__.py:56] Some hub symbols are not available because TensorFlow version is less than 1.14\n"
     ]
    }
   ],
   "source": [
    "import pandas as pd\n",
    "import numpy as np\n",
    "import os\n",
    "from sklearn.metrics import accuracy_score\n",
    "from src.utils import get_final_predictions, load_embedding\n",
    "from src.data import DataProcessing\n",
    "import tensorflow as tf\n",
    "import src.data as my_data\n",
    "\n",
    "tf.logging.set_verbosity(tf.logging.ERROR)  # suppress some deprecation warnings\n",
    "\n",
    "device_name = tf.test.gpu_device_name()\n",
    "\n",
    "if device_name != '/device:GPU:0':\n",
    "    raise SystemError('GPU device not found')"
   ]
  },
  {
   "cell_type": "code",
   "execution_count": 2,
   "metadata": {},
   "outputs": [],
   "source": [
    "data_processing = DataProcessing()"
   ]
  },
  {
   "cell_type": "code",
   "execution_count": 3,
   "metadata": {},
   "outputs": [],
   "source": [
    "data_directory = './data/'\n",
    "\n",
    "data_processing.train_data, data_processing.train_classes = \\\n",
    "        data_processing.read_data_train(os.path.join(data_directory, 'train_stories.csv'))\n",
    "data_processing.val_data, data_processing.val_classes = \\\n",
    "    data_processing.read_data_val(os.path.join(data_directory,\n",
    "                                               'cloze_test_val__spring2016 - cloze_test_ALL_val.csv'))"
   ]
  },
  {
   "cell_type": "code",
   "execution_count": 4,
   "metadata": {},
   "outputs": [
    {
     "name": "stdout",
     "output_type": "stream",
     "text": [
      "Total distinct tokens found: 17268\n",
      "vocabulary_size 17270\n"
     ]
    }
   ],
   "source": [
    "data_processing.construct_vocab()\n",
    "\n",
    "print('vocabulary_size', len(data_processing.vocab))"
   ]
  },
  {
   "cell_type": "code",
   "execution_count": null,
   "metadata": {},
   "outputs": [],
   "source": []
  },
  {
   "cell_type": "code",
   "execution_count": 18,
   "metadata": {},
   "outputs": [],
   "source": [
    "# parameters\n",
    "\n",
    "BATCH_SIZE = 64\n",
    "embedding_size = 300\n",
    "\n",
    "units = 1024\n",
    "num_labels = 2\n",
    "NUM_EPOCHS = 2\n",
    "NEGATIVE_SAMPLING = 3\n",
    "\n",
    "NUM_SAMPLES_TRAINING = data_processing.num_samples_training\n",
    "NUM_SAMPLES_VALIDATION = data_processing.num_samples_val"
   ]
  },
  {
   "cell_type": "code",
   "execution_count": 32,
   "metadata": {},
   "outputs": [],
   "source": [
    "tf.reset_default_graph()"
   ]
  },
  {
   "cell_type": "code",
   "execution_count": 33,
   "metadata": {},
   "outputs": [],
   "source": [
    "train_context, train_last_sentence, train_y = data_processing.create_dataset(0, BATCH_SIZE, NEGATIVE_SAMPLING)\n",
    "\n",
    "test_context, test_last_sentence, test_y = data_processing.create_dataset(1, BATCH_SIZE, 0)"
   ]
  },
  {
   "cell_type": "code",
   "execution_count": 34,
   "metadata": {},
   "outputs": [
    {
     "name": "stdout",
     "output_type": "stream",
     "text": [
      "Tensor(\"IteratorGetNext:0\", shape=(?, 80), dtype=int32)\n",
      "Tensor(\"IteratorGetNext:1\", shape=(?, 20), dtype=int32)\n",
      "Tensor(\"IteratorGetNext:2\", shape=(?,), dtype=int32)\n",
      "\n",
      "Tensor(\"IteratorGetNext_1:0\", shape=(?, 80), dtype=int32)\n",
      "Tensor(\"IteratorGetNext_1:1\", shape=(?, 20), dtype=int32)\n",
      "Tensor(\"IteratorGetNext_1:2\", shape=(?,), dtype=int32)\n"
     ]
    }
   ],
   "source": [
    "print(train_context)\n",
    "print(train_last_sentence)\n",
    "print(train_y)\n",
    "print()\n",
    "print(test_context)\n",
    "print(test_last_sentence)\n",
    "print(test_y) "
   ]
  },
  {
   "cell_type": "code",
   "execution_count": null,
   "metadata": {},
   "outputs": [],
   "source": []
  },
  {
   "cell_type": "code",
   "execution_count": 35,
   "metadata": {},
   "outputs": [],
   "source": [
    "class Encoder(tf.keras.Model):\n",
    "    def __init__(self, enc_units):\n",
    "        super(Encoder, self).__init__()\n",
    "        self.enc_units = enc_units\n",
    "        \n",
    "        self.gru = tf.keras.layers.GRU(self.enc_units,\n",
    "                                       return_sequences=True,\n",
    "                                       return_state=True,\n",
    "                                       recurrent_initializer='glorot_uniform')\n",
    "\n",
    "    def call(self, x, hidden):\n",
    "        output, state = self.gru(x, initial_state=hidden)\n",
    "        return output, state\n",
    "\n",
    "    def initialize_hidden_state(self, batch_size):\n",
    "        return tf.zeros((batch_size, self.enc_units))"
   ]
  },
  {
   "cell_type": "code",
   "execution_count": 36,
   "metadata": {},
   "outputs": [],
   "source": [
    "class BahdanauAttention(tf.keras.Model):\n",
    "    def __init__(self, units):\n",
    "        super(BahdanauAttention, self).__init__()\n",
    "        \n",
    "        self.W1 = tf.keras.layers.Dense(units, name='Dense_1')\n",
    "        self.W2 = tf.keras.layers.Dense(units, name='Dense_2')\n",
    "        self.V = tf.keras.layers.Dense(1, name='Dense_3')\n",
    "    \n",
    "    def call(self, query, values):\n",
    "        # hidden shape == (batch_size, hidden size)\n",
    "        # hidden_with_time_axis shape == (batch_size, 1, hidden size)\n",
    "        # we are doing this to perform addition to calculate the score\n",
    "        hidden_with_time_axis = tf.expand_dims(query, 1)\n",
    "\n",
    "        # score shape == (batch_size, max_length, hidden_size)\n",
    "        score = self.V(tf.nn.tanh(\n",
    "            self.W1(values) + self.W2(hidden_with_time_axis)))\n",
    "\n",
    "        # attention_weights shape == (batch_size, max_length, 1)\n",
    "        # we get 1 at the last axis because we are applying score to self.V\n",
    "        attention_weights = tf.nn.softmax(score, axis=1)\n",
    "\n",
    "        # context_vector shape after sum == (batch_size, hidden_size)\n",
    "        context_vector = attention_weights * values\n",
    "        context_vector = tf.reduce_sum(context_vector, axis=1)\n",
    "\n",
    "        return context_vector, attention_weights"
   ]
  },
  {
   "cell_type": "code",
   "execution_count": 37,
   "metadata": {},
   "outputs": [],
   "source": [
    "class DenseLayerWithSoftmax(tf.keras.Model):\n",
    "    def __init__(self, layers, num_classes, dropout_keep_proba=0.9, activation=tf.nn.relu):\n",
    "        super(DenseLayerWithSoftmax, self).__init__()\n",
    "        \n",
    "        self.dense_layers = []\n",
    "        self.dropout_keep_proba = dropout_keep_proba\n",
    "        self.num_classes = num_classes\n",
    "        \n",
    "        for i, layer_size in enumerate(layers):\n",
    "            self.dense_layers.append(tf.keras.layers.Dense(layer_size, name='DenseLayer_' + str(i), use_bias=True, activation=tf.nn.relu))\n",
    "    \n",
    "        self.final_layer = tf.keras.layers.Dense(self.num_classes, name='DenseLayer_final', use_bias=True)\n",
    "    \n",
    "    def call(self, input_, input_labels):\n",
    "        \n",
    "        logits = input_\n",
    "        \n",
    "        for layer in self.dense_layers:\n",
    "            logits = layer(logits)\n",
    "            logits = tf.nn.dropout(logits, keep_prob=self.dropout_keep_proba)\n",
    "\n",
    "        logits = self.final_layer(logits)\n",
    "        log_probs = tf.nn.log_softmax(logits, axis=-1)\n",
    "\n",
    "        # Convert labels into one-hot encoding\n",
    "        one_hot_labels = tf.one_hot(input_labels, depth=self.num_classes, dtype=tf.float32)\n",
    "        \n",
    "        predicted_labels = tf.squeeze(tf.argmax(log_probs, axis=-1, output_type=tf.int32))\n",
    "\n",
    "        per_example_loss = - tf.reduce_sum(one_hot_labels * log_probs, axis=-1)\n",
    "        loss = tf.reduce_mean(per_example_loss)\n",
    "        \n",
    "        return predicted_labels, loss, log_probs"
   ]
  },
  {
   "cell_type": "code",
   "execution_count": 38,
   "metadata": {},
   "outputs": [],
   "source": [
    "def weight_variable(name, shape, initializer=tf.contrib.layers.xavier_initializer()):\n",
    "    \"\"\"\n",
    "    Creates a variable with a specified initializer\n",
    "    \"\"\"\n",
    "    variable = tf.get_variable(name, initializer=initializer(shape))\n",
    "    return variable"
   ]
  },
  {
   "cell_type": "markdown",
   "metadata": {},
   "source": [
    "## LSDSem 2017: Exploring Data Generation Methods for the Story Cloze Test (https://aclweb.org/anthology/W17-0908)\n",
    "\n",
    "Separate networks for encoder and decoder. Concatenate their states and feed forward."
   ]
  },
  {
   "cell_type": "code",
   "execution_count": 39,
   "metadata": {},
   "outputs": [],
   "source": [
    "class TwoRNNSConcatOutputs(tf.keras.Model):\n",
    "    def __init__(self, units, vocabulary_size, num_classes=2,\n",
    "                 fc_layers=[], dropout_keep_proba=0.9, activation=tf.nn.relu):\n",
    "        super(TwoRNNSConcatOutputs, self).__init__()\n",
    "        \n",
    "        self.units = units\n",
    "        \n",
    "        self.input_embeddings = weight_variable('input_embeddings', [vocabulary_size, embedding_size])\n",
    "        \n",
    "        self.encoder = Encoder(self.units)\n",
    "        self.decoder = Encoder(self.units)\n",
    "        \n",
    "        self.feed_foward = DenseLayerWithSoftmax(fc_layers, num_classes, \n",
    "                                                 dropout_keep_proba=dropout_keep_proba, activation=activation)\n",
    "        \n",
    "    def call(self, input_context, input_last_sentence, input_labels):\n",
    "\n",
    "        context_embedding = tf.nn.embedding_lookup(self.input_embeddings, input_context,\n",
    "                                                   name='sentence_embedding')\n",
    "        \n",
    "        last_sentence_embedding = tf.nn.embedding_lookup(self.input_embeddings, input_last_sentence,\n",
    "                                                   name='sentence_embedding')\n",
    "        \n",
    "        # pass through encoder\n",
    "        sample_hidden_enc = self.encoder.initialize_hidden_state(tf.shape(context_embedding)[0])\n",
    "        sample_output_enc, sample_hidden_enc = self.encoder(context_embedding, sample_hidden_enc)\n",
    "        \n",
    "        # pass through decoder \n",
    "#         sample_hidden_dec = self.decoder.initialize_hidden_state(tf.shape(last_sentence_embedding)[0])\n",
    "        sample_output_dec, sample_hidden_dec = self.decoder(last_sentence_embedding, sample_hidden_enc)\n",
    "        \n",
    "        # concatenate last two states\n",
    "        concatenated_outputs = tf.concat([sample_hidden_enc, sample_hidden_dec], axis=1)\n",
    "        \n",
    "        return self.feed_foward(concatenated_outputs, input_labels)"
   ]
  },
  {
   "cell_type": "code",
   "execution_count": 40,
   "metadata": {},
   "outputs": [],
   "source": [
    "fc_layers = [128]\n",
    "\n",
    "vocabulary_size = len(data_processing.vocab)\n",
    "\n",
    "twoRNNSConcatOutputs = TwoRNNSConcatOutputs(units, vocabulary_size, num_classes=2, fc_layers=[])\n",
    "\n",
    "predicted_labels_train, loss_train, log_probs_train = twoRNNSConcatOutputs(train_context, train_last_sentence, train_y)\n",
    "predicted_labels_test, loss_test, log_probs_test = twoRNNSConcatOutputs(test_context, test_last_sentence, test_y)"
   ]
  },
  {
   "cell_type": "markdown",
   "metadata": {},
   "source": [
    "## MY attention"
   ]
  },
  {
   "cell_type": "code",
   "execution_count": 41,
   "metadata": {},
   "outputs": [],
   "source": [
    "# class MyAttention(tf.keras.Model):\n",
    "#     def __init__(self, units, attention_units=10, num_classes=2, fc_layers=[], dropout_keep_proba=0.9, activation=tf.nn.relu):\n",
    "#         super(AttentionRNN, self).__init__()\n",
    "        \n",
    "#         self.units = units\n",
    "        \n",
    "#         self.input_embeddings = weight_variable('input_embeddings', [vocabulary_size, embedding_size])\n",
    "        \n",
    "#         self.encoder = Encoder(self.units)\n",
    "#         self.decoder = Encoder(self.units)\n",
    "        \n",
    "#         self.attention_layer = BahdanauAttention(attention_units)\n",
    "#         self.feed_foward = DenseLayerWithSoftmax(fc_layers, num_classes, \n",
    "#                                                  dropout_keep_proba=dropout_keep_proba, activation=activation)\n",
    "        \n",
    "#     def call(self, input_context, input_last_sentence, input_labels):\n",
    "\n",
    "#         context_embedding = tf.nn.embedding_lookup(self.input_embeddings, input_context,\n",
    "#                                                    name='sentence_embedding')\n",
    "        \n",
    "#         last_sentence_embedding = tf.nn.embedding_lookup(self.input_embeddings, input_last_sentence,\n",
    "#                                                    name='sentence_embedding')\n",
    "#         # sample input\n",
    "#         sample_hidden = self.encoder.initialize_hidden_state(tf.shape(story_embedding)[0])\n",
    "#         sample_output, sample_hidden = self.encoder(story_embedding, sample_hidden)\n",
    "        \n",
    "#         sentence_to_check = tf.reshape(sample_output[:, -1, :], [-1, self.units])\n",
    "#         first_four_sentences = sample_output[:, :4, :]\n",
    "        \n",
    "#         attention_result, attention_weights = self.attention_layer(sentence_to_check, first_four_sentences)\n",
    "        \n",
    "#         return self.feed_foward(attention_result, input_labels)"
   ]
  },
  {
   "cell_type": "code",
   "execution_count": null,
   "metadata": {},
   "outputs": [],
   "source": []
  },
  {
   "cell_type": "markdown",
   "metadata": {},
   "source": [
    "## TRAIN"
   ]
  },
  {
   "cell_type": "code",
   "execution_count": 42,
   "metadata": {},
   "outputs": [
    {
     "name": "stdout",
     "output_type": "stream",
     "text": [
      "551\n"
     ]
    }
   ],
   "source": [
    "import math \n",
    "\n",
    "update_lr_every = int((math.ceil(NUM_SAMPLES_TRAINING / (BATCH_SIZE / (NEGATIVE_SAMPLING + 1))) * NUM_EPOCHS) / 20)\n",
    "\n",
    "global_step  = tf.Variable(0, trainable=False, name=\"global_step\")\n",
    "print(update_lr_every)\n",
    "\n",
    "# learning rate 1e-3 for most models\n",
    "learning_rate = tf.train.exponential_decay(\n",
    "  2e-4,                 # Base learning rate.\n",
    "  global_step,  # Current index into the dataset.\n",
    "  update_lr_every,          # Decay step.\n",
    "  0.96,                # Decay rate.\n",
    "  staircase=True)\n",
    "\n",
    "optimizer = tf.train.AdamOptimizer(learning_rate)\n",
    "gradients, variables = zip(*optimizer.compute_gradients(loss_train))\n",
    "gradients, _ = tf.clip_by_global_norm(gradients, 5.0)\n",
    "train_op = optimizer.apply_gradients(zip(gradients, variables), global_step=global_step)\n",
    "\n",
    "# train_op = tf.train.AdamOptimizer(learning_rate).minimize(loss_train, global_step=global_step)"
   ]
  },
  {
   "cell_type": "code",
   "execution_count": 43,
   "metadata": {
    "scrolled": true
   },
   "outputs": [
    {
     "name": "stdout",
     "output_type": "stream",
     "text": [
      "Loading glove model\n",
      "Done. 400000  words loaded!\n",
      "<unk> not in embedding file\n",
      "<pad> not in embedding file\n",
      "hadn not in embedding file\n",
      "00pm not in embedding file\n",
      "17266 words out of 17270 could be loaded\n"
     ]
    },
    {
     "name": "stderr",
     "output_type": "stream",
     "text": [
      "training phase            :  30%|███       | 3330/11022 [28:57<1:06:04,  1.94it/s, epoch=0, iter_percent=60 %]\n"
     ]
    },
    {
     "ename": "KeyboardInterrupt",
     "evalue": "",
     "output_type": "error",
     "traceback": [
      "\u001b[0;31m---------------------------------------------------------------------------\u001b[0m",
      "\u001b[0;31mKeyboardInterrupt\u001b[0m                         Traceback (most recent call last)",
      "\u001b[0;32m<ipython-input-43-8ab8d274341b>\u001b[0m in \u001b[0;36m<module>\u001b[0;34m()\u001b[0m\n\u001b[1;32m     54\u001b[0m             \u001b[0mt\u001b[0m\u001b[0;34m.\u001b[0m\u001b[0mset_postfix\u001b[0m\u001b[0;34m(\u001b[0m\u001b[0mepoch\u001b[0m\u001b[0;34m=\u001b[0m\u001b[0mepoch_cur\u001b[0m\u001b[0;34m,\u001b[0m\u001b[0miter_percent\u001b[0m\u001b[0;34m=\u001b[0m\u001b[0;34m\"%d %%\"\u001b[0m\u001b[0;34m%\u001b[0m\u001b[0;34m(\u001b[0m\u001b[0miter_cur\u001b[0m\u001b[0;34m/\u001b[0m\u001b[0mfloat\u001b[0m\u001b[0;34m(\u001b[0m\u001b[0mNUM_SAMPLES_TRAINING\u001b[0m\u001b[0;34m)\u001b[0m\u001b[0;34m*\u001b[0m\u001b[0;36m100\u001b[0m\u001b[0;34m)\u001b[0m \u001b[0;34m)\u001b[0m\u001b[0;34m\u001b[0m\u001b[0m\n\u001b[1;32m     55\u001b[0m \u001b[0;34m\u001b[0m\u001b[0m\n\u001b[0;32m---> 56\u001b[0;31m             \u001b[0m_\u001b[0m\u001b[0;34m,\u001b[0m \u001b[0m_\u001b[0m\u001b[0;34m,\u001b[0m \u001b[0mlt\u001b[0m \u001b[0;34m=\u001b[0m \u001b[0msess\u001b[0m\u001b[0;34m.\u001b[0m\u001b[0mrun\u001b[0m\u001b[0;34m(\u001b[0m\u001b[0;34m[\u001b[0m\u001b[0mtrain_op\u001b[0m\u001b[0;34m,\u001b[0m \u001b[0mglobal_step\u001b[0m\u001b[0;34m,\u001b[0m \u001b[0mloss_train\u001b[0m\u001b[0;34m]\u001b[0m\u001b[0;34m)\u001b[0m\u001b[0;34m\u001b[0m\u001b[0m\n\u001b[0m\u001b[1;32m     57\u001b[0m \u001b[0;34m\u001b[0m\u001b[0m\n\u001b[1;32m     58\u001b[0m             \u001b[0mlosses\u001b[0m\u001b[0;34m.\u001b[0m\u001b[0mappend\u001b[0m\u001b[0;34m(\u001b[0m\u001b[0mlt\u001b[0m\u001b[0;34m)\u001b[0m\u001b[0;34m\u001b[0m\u001b[0m\n",
      "\u001b[0;32m~/.local/lib64/python3.6/site-packages/tensorflow/python/client/session.py\u001b[0m in \u001b[0;36mrun\u001b[0;34m(self, fetches, feed_dict, options, run_metadata)\u001b[0m\n\u001b[1;32m    927\u001b[0m     \u001b[0;32mtry\u001b[0m\u001b[0;34m:\u001b[0m\u001b[0;34m\u001b[0m\u001b[0m\n\u001b[1;32m    928\u001b[0m       result = self._run(None, fetches, feed_dict, options_ptr,\n\u001b[0;32m--> 929\u001b[0;31m                          run_metadata_ptr)\n\u001b[0m\u001b[1;32m    930\u001b[0m       \u001b[0;32mif\u001b[0m \u001b[0mrun_metadata\u001b[0m\u001b[0;34m:\u001b[0m\u001b[0;34m\u001b[0m\u001b[0m\n\u001b[1;32m    931\u001b[0m         \u001b[0mproto_data\u001b[0m \u001b[0;34m=\u001b[0m \u001b[0mtf_session\u001b[0m\u001b[0;34m.\u001b[0m\u001b[0mTF_GetBuffer\u001b[0m\u001b[0;34m(\u001b[0m\u001b[0mrun_metadata_ptr\u001b[0m\u001b[0;34m)\u001b[0m\u001b[0;34m\u001b[0m\u001b[0m\n",
      "\u001b[0;32m~/.local/lib64/python3.6/site-packages/tensorflow/python/client/session.py\u001b[0m in \u001b[0;36m_run\u001b[0;34m(self, handle, fetches, feed_dict, options, run_metadata)\u001b[0m\n\u001b[1;32m   1150\u001b[0m     \u001b[0;32mif\u001b[0m \u001b[0mfinal_fetches\u001b[0m \u001b[0;32mor\u001b[0m \u001b[0mfinal_targets\u001b[0m \u001b[0;32mor\u001b[0m \u001b[0;34m(\u001b[0m\u001b[0mhandle\u001b[0m \u001b[0;32mand\u001b[0m \u001b[0mfeed_dict_tensor\u001b[0m\u001b[0;34m)\u001b[0m\u001b[0;34m:\u001b[0m\u001b[0;34m\u001b[0m\u001b[0m\n\u001b[1;32m   1151\u001b[0m       results = self._do_run(handle, final_targets, final_fetches,\n\u001b[0;32m-> 1152\u001b[0;31m                              feed_dict_tensor, options, run_metadata)\n\u001b[0m\u001b[1;32m   1153\u001b[0m     \u001b[0;32melse\u001b[0m\u001b[0;34m:\u001b[0m\u001b[0;34m\u001b[0m\u001b[0m\n\u001b[1;32m   1154\u001b[0m       \u001b[0mresults\u001b[0m \u001b[0;34m=\u001b[0m \u001b[0;34m[\u001b[0m\u001b[0;34m]\u001b[0m\u001b[0;34m\u001b[0m\u001b[0m\n",
      "\u001b[0;32m~/.local/lib64/python3.6/site-packages/tensorflow/python/client/session.py\u001b[0m in \u001b[0;36m_do_run\u001b[0;34m(self, handle, target_list, fetch_list, feed_dict, options, run_metadata)\u001b[0m\n\u001b[1;32m   1326\u001b[0m     \u001b[0;32mif\u001b[0m \u001b[0mhandle\u001b[0m \u001b[0;32mis\u001b[0m \u001b[0;32mNone\u001b[0m\u001b[0;34m:\u001b[0m\u001b[0;34m\u001b[0m\u001b[0m\n\u001b[1;32m   1327\u001b[0m       return self._do_call(_run_fn, feeds, fetches, targets, options,\n\u001b[0;32m-> 1328\u001b[0;31m                            run_metadata)\n\u001b[0m\u001b[1;32m   1329\u001b[0m     \u001b[0;32melse\u001b[0m\u001b[0;34m:\u001b[0m\u001b[0;34m\u001b[0m\u001b[0m\n\u001b[1;32m   1330\u001b[0m       \u001b[0;32mreturn\u001b[0m \u001b[0mself\u001b[0m\u001b[0;34m.\u001b[0m\u001b[0m_do_call\u001b[0m\u001b[0;34m(\u001b[0m\u001b[0m_prun_fn\u001b[0m\u001b[0;34m,\u001b[0m \u001b[0mhandle\u001b[0m\u001b[0;34m,\u001b[0m \u001b[0mfeeds\u001b[0m\u001b[0;34m,\u001b[0m \u001b[0mfetches\u001b[0m\u001b[0;34m)\u001b[0m\u001b[0;34m\u001b[0m\u001b[0m\n",
      "\u001b[0;32m~/.local/lib64/python3.6/site-packages/tensorflow/python/client/session.py\u001b[0m in \u001b[0;36m_do_call\u001b[0;34m(self, fn, *args)\u001b[0m\n\u001b[1;32m   1332\u001b[0m   \u001b[0;32mdef\u001b[0m \u001b[0m_do_call\u001b[0m\u001b[0;34m(\u001b[0m\u001b[0mself\u001b[0m\u001b[0;34m,\u001b[0m \u001b[0mfn\u001b[0m\u001b[0;34m,\u001b[0m \u001b[0;34m*\u001b[0m\u001b[0margs\u001b[0m\u001b[0;34m)\u001b[0m\u001b[0;34m:\u001b[0m\u001b[0;34m\u001b[0m\u001b[0m\n\u001b[1;32m   1333\u001b[0m     \u001b[0;32mtry\u001b[0m\u001b[0;34m:\u001b[0m\u001b[0;34m\u001b[0m\u001b[0m\n\u001b[0;32m-> 1334\u001b[0;31m       \u001b[0;32mreturn\u001b[0m \u001b[0mfn\u001b[0m\u001b[0;34m(\u001b[0m\u001b[0;34m*\u001b[0m\u001b[0margs\u001b[0m\u001b[0;34m)\u001b[0m\u001b[0;34m\u001b[0m\u001b[0m\n\u001b[0m\u001b[1;32m   1335\u001b[0m     \u001b[0;32mexcept\u001b[0m \u001b[0merrors\u001b[0m\u001b[0;34m.\u001b[0m\u001b[0mOpError\u001b[0m \u001b[0;32mas\u001b[0m \u001b[0me\u001b[0m\u001b[0;34m:\u001b[0m\u001b[0;34m\u001b[0m\u001b[0m\n\u001b[1;32m   1336\u001b[0m       \u001b[0mmessage\u001b[0m \u001b[0;34m=\u001b[0m \u001b[0mcompat\u001b[0m\u001b[0;34m.\u001b[0m\u001b[0mas_text\u001b[0m\u001b[0;34m(\u001b[0m\u001b[0me\u001b[0m\u001b[0;34m.\u001b[0m\u001b[0mmessage\u001b[0m\u001b[0;34m)\u001b[0m\u001b[0;34m\u001b[0m\u001b[0m\n",
      "\u001b[0;32m~/.local/lib64/python3.6/site-packages/tensorflow/python/client/session.py\u001b[0m in \u001b[0;36m_run_fn\u001b[0;34m(feed_dict, fetch_list, target_list, options, run_metadata)\u001b[0m\n\u001b[1;32m   1317\u001b[0m       \u001b[0mself\u001b[0m\u001b[0;34m.\u001b[0m\u001b[0m_extend_graph\u001b[0m\u001b[0;34m(\u001b[0m\u001b[0;34m)\u001b[0m\u001b[0;34m\u001b[0m\u001b[0m\n\u001b[1;32m   1318\u001b[0m       return self._call_tf_sessionrun(\n\u001b[0;32m-> 1319\u001b[0;31m           options, feed_dict, fetch_list, target_list, run_metadata)\n\u001b[0m\u001b[1;32m   1320\u001b[0m \u001b[0;34m\u001b[0m\u001b[0m\n\u001b[1;32m   1321\u001b[0m     \u001b[0;32mdef\u001b[0m \u001b[0m_prun_fn\u001b[0m\u001b[0;34m(\u001b[0m\u001b[0mhandle\u001b[0m\u001b[0;34m,\u001b[0m \u001b[0mfeed_dict\u001b[0m\u001b[0;34m,\u001b[0m \u001b[0mfetch_list\u001b[0m\u001b[0;34m)\u001b[0m\u001b[0;34m:\u001b[0m\u001b[0;34m\u001b[0m\u001b[0m\n",
      "\u001b[0;32m~/.local/lib64/python3.6/site-packages/tensorflow/python/client/session.py\u001b[0m in \u001b[0;36m_call_tf_sessionrun\u001b[0;34m(self, options, feed_dict, fetch_list, target_list, run_metadata)\u001b[0m\n\u001b[1;32m   1405\u001b[0m     return tf_session.TF_SessionRun_wrapper(\n\u001b[1;32m   1406\u001b[0m         \u001b[0mself\u001b[0m\u001b[0;34m.\u001b[0m\u001b[0m_session\u001b[0m\u001b[0;34m,\u001b[0m \u001b[0moptions\u001b[0m\u001b[0;34m,\u001b[0m \u001b[0mfeed_dict\u001b[0m\u001b[0;34m,\u001b[0m \u001b[0mfetch_list\u001b[0m\u001b[0;34m,\u001b[0m \u001b[0mtarget_list\u001b[0m\u001b[0;34m,\u001b[0m\u001b[0;34m\u001b[0m\u001b[0m\n\u001b[0;32m-> 1407\u001b[0;31m         run_metadata)\n\u001b[0m\u001b[1;32m   1408\u001b[0m \u001b[0;34m\u001b[0m\u001b[0m\n\u001b[1;32m   1409\u001b[0m   \u001b[0;32mdef\u001b[0m \u001b[0m_call_tf_sessionprun\u001b[0m\u001b[0;34m(\u001b[0m\u001b[0mself\u001b[0m\u001b[0;34m,\u001b[0m \u001b[0mhandle\u001b[0m\u001b[0;34m,\u001b[0m \u001b[0mfeed_dict\u001b[0m\u001b[0;34m,\u001b[0m \u001b[0mfetch_list\u001b[0m\u001b[0;34m)\u001b[0m\u001b[0;34m:\u001b[0m\u001b[0;34m\u001b[0m\u001b[0m\n",
      "\u001b[0;31mKeyboardInterrupt\u001b[0m: "
     ]
    }
   ],
   "source": [
    "from tqdm import trange\n",
    "import math\n",
    "import sys\n",
    "\n",
    "\n",
    "with tf.Session() as sess:\n",
    "    \n",
    "    load_embedding(sess, data_processing.vocab, twoRNNSConcatOutputs.input_embeddings,\n",
    "                   '/cluster/project/infk/courses/machine_perception_19/Sasglentamekaiedo/glove.6B.300d.txt',\n",
    "                   embedding_size)\n",
    "#                    embedding_size, len(data_processing.vocab))\n",
    "    \n",
    "    tf.global_variables_initializer().run()\n",
    "    \n",
    "    losses = []\n",
    "    \n",
    "    def get_predictions(predicted_labels, y, log_probs, number_of_steps, num_samples, phase):\n",
    "        predictions = []\n",
    "        true_labels = []\n",
    "        log_probs_total = []\n",
    "        \n",
    "        desc = 'predictions on ' + str(phase)\n",
    "        desc = desc.ljust(26)\n",
    "        with trange(number_of_steps, desc=desc) as t:\n",
    "            for i in t:\n",
    "                # display training status\n",
    "                epoch_cur = i * BATCH_SIZE // num_samples\n",
    "                iter_cur = (i * BATCH_SIZE ) % num_samples\n",
    "                t.set_postfix(epoch=epoch_cur,iter_percent=\"%d %%\"%(iter_cur/float(NUM_SAMPLES_VALIDATION)*100) )\n",
    "                \n",
    "                predictions_batch, true_labels_batch, log_probs_batch = sess.run([predicted_labels, y, log_probs])\n",
    "\n",
    "                predictions.append(predictions_batch)\n",
    "                true_labels.append(true_labels_batch)\n",
    "                log_probs_total.append(log_probs_batch)\n",
    "        \n",
    "        return np.concatenate(predictions, axis=0).reshape(-1), np.concatenate(true_labels, axis=0).reshape(-1), \\\n",
    "                    np.concatenate(log_probs_total, axis=0).reshape(-1, 2)\n",
    "    \n",
    "#     with trange(math.ceil(NUM_SAMPLES_TRAINING / (BATCH_SIZE / (NEGATIVE_SAMPLING + 1))) * NUM_EPOCHS) as t:\n",
    "#     if train_on_validation:\n",
    "#         number_of_steps = math.ceil(NUM_SAMPLES_TRAINING / BATCH_SIZE)\n",
    "#         batch_index = BATCH_SIZE \n",
    "#     else:\n",
    "    number_of_steps = math.ceil(NUM_SAMPLES_TRAINING / (BATCH_SIZE / (NEGATIVE_SAMPLING + 1)))\n",
    "    batch_index = BATCH_SIZE / (NEGATIVE_SAMPLING + 1)\n",
    "\n",
    "    desc = 'training phase'.ljust(26)\n",
    "    with trange(number_of_steps * NUM_EPOCHS, desc=desc) as t:\n",
    "        last_epoch = 0\n",
    "        for i in t:\n",
    "            # display training status\n",
    "            epoch_cur = (i * batch_index) // NUM_SAMPLES_TRAINING\n",
    "            iter_cur = (i * batch_index) % NUM_SAMPLES_TRAINING\n",
    "            t.set_postfix(epoch=epoch_cur,iter_percent=\"%d %%\"%(iter_cur/float(NUM_SAMPLES_TRAINING)*100) )\n",
    "            \n",
    "            _, _, lt = sess.run([train_op, global_step, loss_train])\n",
    "\n",
    "            losses.append(lt)\n",
    "             \n",
    "            if epoch_cur > last_epoch:\n",
    "                last_epoch = epoch_cur\n",
    "                predictions_test, labels_test, probabilities_test = get_predictions(predicted_labels_test, test_y, log_probs_test, math.ceil(NUM_SAMPLES_VALIDATION / BATCH_SIZE), NUM_SAMPLES_VALIDATION, 'validation')\n",
    "                print(f'Raw predictions validation score {accuracy_score(labels_test, predictions_test):.3f} and unified {accuracy_score(labels_test[::2], get_final_predictions(probabilities_test, threshold=1)):.3f}')\n",
    "            \n",
    "    predictions_train, labels_train, probabilities_train = get_predictions(predicted_labels_train, train_y, log_probs_train, number_of_steps, NUM_SAMPLES_TRAINING, 'training')\n",
    "    predictions_test, labels_test, probabilities_test = get_predictions(predicted_labels_test, test_y, log_probs_test, math.ceil(NUM_SAMPLES_VALIDATION / BATCH_SIZE), NUM_SAMPLES_VALIDATION, 'validation')"
   ]
  },
  {
   "cell_type": "code",
   "execution_count": 44,
   "metadata": {},
   "outputs": [
    {
     "data": {
      "text/plain": [
       "[<matplotlib.lines.Line2D at 0x2ac79fd66588>]"
      ]
     },
     "execution_count": 44,
     "metadata": {},
     "output_type": "execute_result"
    },
    {
     "data": {
      "image/png": "[encoded data removed]",
      "text/plain": [
       "<Figure size 1080x360 with 1 Axes>"
      ]
     },
     "metadata": {},
     "output_type": "display_data"
    }
   ],
   "source": [
    "import matplotlib.pyplot as plt\n",
    "from pylab import rcParams\n",
    "%matplotlib inline\n",
    "rcParams['figure.figsize'] = 15, 5\n",
    "\n",
    "\n",
    "plt.plot(losses)"
   ]
  },
  {
   "cell_type": "code",
   "execution_count": null,
   "metadata": {},
   "outputs": [],
   "source": [
    "print(accuracy_score(labels_train, predictions_train))\n",
    "print(accuracy_score(labels_test, predictions_test))"
   ]
  },
  {
   "cell_type": "code",
   "execution_count": null,
   "metadata": {},
   "outputs": [],
   "source": [
    "from sklearn.metrics import confusion_matrix\n",
    "\n",
    "confusion_matrix(labels_train, predictions_train)"
   ]
  },
  {
   "cell_type": "code",
   "execution_count": null,
   "metadata": {},
   "outputs": [],
   "source": [
    "confusion_matrix(labels_test, predictions_test)"
   ]
  },
  {
   "cell_type": "code",
   "execution_count": null,
   "metadata": {},
   "outputs": [],
   "source": [
    "accuracy_score(labels_test[::2], get_final_predictions(probabilities_test, threshold=1))"
   ]
  },
  {
   "cell_type": "code",
   "execution_count": null,
   "metadata": {},
   "outputs": [],
   "source": [
    "np.exp(probabilities_train[:10])"
   ]
  },
  {
   "cell_type": "code",
   "execution_count": null,
   "metadata": {},
   "outputs": [],
   "source": []
  }
 ],
 "metadata": {
  "kernelspec": {
   "display_name": "Python 3",
   "language": "python",
   "name": "python3"
  },
  "language_info": {
   "codemirror_mode": {
    "name": "ipython",
    "version": 3
   },
   "file_extension": ".py",
   "mimetype": "text/x-python",
   "name": "python",
   "nbconvert_exporter": "python",
   "pygments_lexer": "ipython3",
   "version": "3.6.4"
  }
 },
 "nbformat": 4,
 "nbformat_minor": 2
}
